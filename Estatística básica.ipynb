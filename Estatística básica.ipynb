{
 "cells": [
  {
   "cell_type": "markdown",
   "id": "76d6efa2",
   "metadata": {},
   "source": [
    "# Gerando amostra aleatória simples:"
   ]
  },
  {
   "cell_type": "code",
   "execution_count": 27,
   "id": "2e646add",
   "metadata": {},
   "outputs": [],
   "source": [
    "# Definida função para gerar amostra aleatória\n",
    "\n",
    "def random(populacao,amostra):\n",
    "    import random                                # Importando biblioteca de randomização\n",
    "    i=0\n",
    "    while (i<populacao):                         # Loop de criação da lista\n",
    "        lista.append(i+1)      \n",
    "        i+=1                        \n",
    "    \n",
    "    escolhidos = random.sample(lista,amostra)    # Geração de números aleatórios do tamanho da amostra e distintos\n",
    "    print(escolhidos)"
   ]
  },
  {
   "cell_type": "code",
   "execution_count": 28,
   "id": "4a6a93ca",
   "metadata": {},
   "outputs": [
    {
     "name": "stdout",
     "output_type": "stream",
     "text": [
      "[14, 25, 31, 29, 73, 47, 16, 76, 49, 41, 66, 30, 61, 69, 54, 18, 7, 5, 41, 64, 38, 60, 17, 75, 13, 80, 6, 58, 54, 62]\n"
     ]
    }
   ],
   "source": [
    "random(80,30)    # Exemplo de amostra"
   ]
  }
 ],
 "metadata": {
  "kernelspec": {
   "display_name": "Python 3 (ipykernel)",
   "language": "python",
   "name": "python3"
  },
  "language_info": {
   "codemirror_mode": {
    "name": "ipython",
    "version": 3
   },
   "file_extension": ".py",
   "mimetype": "text/x-python",
   "name": "python",
   "nbconvert_exporter": "python",
   "pygments_lexer": "ipython3",
   "version": "3.10.5"
  }
 },
 "nbformat": 4,
 "nbformat_minor": 5
}
